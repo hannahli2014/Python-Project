{
 "cells": [
  {
   "cell_type": "markdown",
   "metadata": {},
   "source": [
    "# Los Angeles Traffic Collision "
   ]
  },
  {
   "cell_type": "markdown",
   "metadata": {},
   "source": [
    "#### Importing various packages and libraries"
   ]
  },
  {
   "cell_type": "code",
   "execution_count": null,
   "metadata": {},
   "outputs": [],
   "source": [
    "import pandas as pd\n",
    "import numpy as np\n",
    "import seaborn as sns\n",
    "import matplotlib.pyplot as plt\n",
    "import ast\n",
    "%pylab inline"
   ]
  },
  {
   "cell_type": "markdown",
   "metadata": {},
   "source": [
    "#### Reading and cleaning data file - removing duplicates and not-so-important columns "
   ]
  },
  {
   "cell_type": "code",
   "execution_count": null,
   "metadata": {},
   "outputs": [],
   "source": [
    "#Reading the data file\n",
    "losAngelesdf = pd.read_csv('traffic-collision-data-from-2010-to-present.csv')\n",
    "#losAngelesdf.info()\n",
    "losAngelesdf = losAngelesdf.dropna(how='any')\n",
    "#Dropping duplicates\n",
    "losAngelesdf.drop_duplicates().info()\n",
    "#losAngelesdf\n",
    "#Dropping a few columns that might not be of a value add to us\n",
    "losAngelesdf.drop(['Area ID','Crime Code','DR Number',\n",
    "                   'MO Codes','Premise Code','Precinct Boundaries','LA Specific Plans'],axis=1)"
   ]
  },
  {
   "cell_type": "markdown",
   "metadata": {},
   "source": [
    "#### Formatting date and extracting the year, month and weekday of occurance "
   ]
  },
  {
   "cell_type": "code",
   "execution_count": null,
   "metadata": {},
   "outputs": [],
   "source": [
    "losAngelesdf['Date'] =  pd.to_datetime(losAngelesdf['Date Occurred'], format='%Y-%m-%dT%H:%M:%S')\n",
    "losAngelesdf['year'] = pd.DatetimeIndex(losAngelesdf['Date']).year\n",
    "losAngelesdf['month'] = pd.DatetimeIndex(losAngelesdf['Date']).month\n",
    "losAngelesdf['weekday']= pd.DatetimeIndex(losAngelesdf['Date']).dayofweek"
   ]
  },
  {
   "cell_type": "code",
   "execution_count": null,
   "metadata": {},
   "outputs": [],
   "source": [
    "losAngelesdf.to_csv('LA_Traffic_nonull.csv')"
   ]
  }
 ],
 "metadata": {
  "kernelspec": {
   "display_name": "Python 2",
   "language": "python",
   "name": "python2"
  },
  "language_info": {
   "codemirror_mode": {
    "name": "ipython",
    "version": 2
   },
   "file_extension": ".py",
   "mimetype": "text/x-python",
   "name": "python",
   "nbconvert_exporter": "python",
   "pygments_lexer": "ipython2",
   "version": "2.7.16"
  }
 },
 "nbformat": 4,
 "nbformat_minor": 2
}
